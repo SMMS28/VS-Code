{
  "nbformat": 4,
  "nbformat_minor": 0,
  "metadata": {
    "colab": {
      "provenance": []
    },
    "kernelspec": {
      "name": "python3",
      "display_name": "Python 3"
    },
    "language_info": {
      "name": "python"
    }
  },
  "cells": [
    {
      "cell_type": "code",
      "execution_count": 1,
      "metadata": {
        "colab": {
          "base_uri": "https://localhost:8080/"
        },
        "id": "hv95Uy-ZCmBJ",
        "outputId": "3eec767f-21ec-40e3-92f3-b512fd7c7bbd"
      },
      "outputs": [
        {
          "output_type": "stream",
          "name": "stdout",
          "text": [
            "Cloning into 'IIT-Madras-Advanced-Certification-in-Data-Science-and-AI'...\n",
            "remote: Enumerating objects: 60, done.\u001b[K\n",
            "remote: Counting objects: 100% (60/60), done.\u001b[K\n",
            "remote: Compressing objects: 100% (56/56), done.\u001b[K\n",
            "remote: Total 60 (delta 7), reused 0 (delta 0), pack-reused 0\u001b[K\n",
            "Unpacking objects: 100% (60/60), 11.39 MiB | 9.09 MiB/s, done.\n"
          ]
        }
      ],
      "source": [
        "!git clone https://github.com/PrashantMali07/IIT-Madras-Advanced-Certification-in-Data-Science-and-AI.git"
      ]
    },
    {
      "cell_type": "code",
      "source": [
        "# importing required libraries\n",
        "\n",
        "import numpy as np\n",
        "import pandas as pd\n",
        "import matplotlib.pyplot as plt\n",
        "import seaborn as sns\n",
        "\n",
        "from sklearn.model_selection import train_test_split\n",
        "from sklearn.preprocessing import LabelEncoder, StandardScaler, MinMaxScaler\n",
        "from sklearn.metrics import r2_score, mean_squared_error, accuracy_score, confusion_matrix\n",
        "\n",
        "from sklearn.linear_model import LinearRegression\n",
        "from sklearn.tree import DecisionTreeClassifier\n",
        "from sklearn.ensemble import RandomForestClassifier\n",
        "from sklearn.naive_bayes import GaussianNB\n",
        "from sklearn.linear_model import LogisticRegression"
      ],
      "metadata": {
        "id": "joRzbvLvC_rv"
      },
      "execution_count": 2,
      "outputs": []
    },
    {
      "cell_type": "code",
      "source": [
        "# loading dataset\n",
        "\n",
        "# data.csv\n",
        "data = pd.read_csv(\"/content/IIT-Madras-Advanced-Certification-in-Data-Science-and-AI/Assignment/Module-Supervised-Learning-Algorithm-In-Python-1/data.csv\")\n",
        "\n",
        "# diabetes.csv\n",
        "diabetes = pd.read_csv(\"/content/IIT-Madras-Advanced-Certification-in-Data-Science-and-AI/Assignment/Module-Supervised-Learning-Algorithm-In-Python-1/diabetes.csv\")"
      ],
      "metadata": {
        "id": "d-1WDy2lGhfK"
      },
      "execution_count": 50,
      "outputs": []
    },
    {
      "cell_type": "markdown",
      "source": [
        "## Linear Regression\n",
        "\n",
        "### Problem Statement:\n",
        "\n",
        "> You work in XYZ Company as a Python Data Scientist. The company officials have collected some data \n",
        "on salaries based on year of experience and wish for you to create a model from it.\n",
        "\n",
        "\n",
        "> **Dataset**:  data.csv\n",
        "\n",
        "### Tasks to be performed:\n",
        "\n",
        "* Load the dataset using pandas\n",
        "* Extract data fromYearsExperience column is a variable named X\n",
        "* Extract data from salary column is a variable named Y\n",
        "* Divide the dataset into two parts for training and testing in 66% and 33% proportion\n",
        "*  Create and train LinearRegression Model on training set\n",
        "*  Make predictions based on the testing set using the trained model\n",
        "*  Check the performance by calculating the r2 score of the model"
      ],
      "metadata": {
        "id": "CI2kTi9DfVtX"
      }
    },
    {
      "cell_type": "code",
      "source": [
        "# about dataset\n",
        "\n",
        "data.info()\n",
        "print(\"Mean, Median, percentile... etc, \\n\", data.describe())\n",
        "print(\"\\nShape: \",data.shape)\n",
        "print(\"\\nCorrelation: \\n\", data.corr())"
      ],
      "metadata": {
        "colab": {
          "base_uri": "https://localhost:8080/"
        },
        "id": "9NleTXWKfIW6",
        "outputId": "bad53b8a-2574-4362-a948-722011c334e7"
      },
      "execution_count": 4,
      "outputs": [
        {
          "output_type": "stream",
          "name": "stdout",
          "text": [
            "<class 'pandas.core.frame.DataFrame'>\n",
            "RangeIndex: 30 entries, 0 to 29\n",
            "Data columns (total 2 columns):\n",
            " #   Column           Non-Null Count  Dtype  \n",
            "---  ------           --------------  -----  \n",
            " 0   YearsExperience  30 non-null     float64\n",
            " 1   Salary           30 non-null     float64\n",
            "dtypes: float64(2)\n",
            "memory usage: 608.0 bytes\n",
            "Mean, Median, percentile... etc, \n",
            "        YearsExperience         Salary\n",
            "count        30.000000      30.000000\n",
            "mean          5.313333   76003.000000\n",
            "std           2.837888   27414.429785\n",
            "min           1.100000   37731.000000\n",
            "25%           3.200000   56720.750000\n",
            "50%           4.700000   65237.000000\n",
            "75%           7.700000  100544.750000\n",
            "max          10.500000  122391.000000\n",
            "\n",
            "Shape:  (30, 2)\n",
            "\n",
            "Correlation: \n",
            "                  YearsExperience    Salary\n",
            "YearsExperience         1.000000  0.978242\n",
            "Salary                  0.978242  1.000000\n"
          ]
        }
      ]
    },
    {
      "cell_type": "code",
      "source": [
        "# checking null enteries\n",
        "\n",
        "data.isna().sum()"
      ],
      "metadata": {
        "colab": {
          "base_uri": "https://localhost:8080/"
        },
        "id": "lTrVujQf4TAv",
        "outputId": "3cf383a7-a59f-48c3-cd73-f88224717894"
      },
      "execution_count": 5,
      "outputs": [
        {
          "output_type": "execute_result",
          "data": {
            "text/plain": [
              "YearsExperience    0\n",
              "Salary             0\n",
              "dtype: int64"
            ]
          },
          "metadata": {},
          "execution_count": 5
        }
      ]
    },
    {
      "cell_type": "code",
      "source": [
        "columns = data.columns\n",
        "for col in columns:\n",
        "  sns.boxplot(x=col, data = data)\n",
        "  print()\n",
        "  plt.show()"
      ],
      "metadata": {
        "colab": {
          "base_uri": "https://localhost:8080/",
          "height": 576
        },
        "id": "pQkgLa985LyC",
        "outputId": "f1e7c934-c7e9-4a3b-c958-963c84865813"
      },
      "execution_count": 6,
      "outputs": [
        {
          "output_type": "stream",
          "name": "stdout",
          "text": [
            "\n"
          ]
        },
        {
          "output_type": "display_data",
          "data": {
            "text/plain": [
              "<Figure size 432x288 with 1 Axes>"
            ],
            "image/png": "[encoded data removed]"
          },
          "metadata": {
            "needs_background": "light"
          }
        },
        {
          "output_type": "stream",
          "name": "stdout",
          "text": [
            "\n"
          ]
        },
        {
          "output_type": "display_data",
          "data": {
            "text/plain": [
              "<Figure size 432x288 with 1 Axes>"
            ],
            "image/png": "[encoded data removed]"
          },
          "metadata": {
            "needs_background": "light"
          }
        }
      ]
    },
    {
      "cell_type": "code",
      "source": [
        "plt.plot(data.YearsExperience, data.Salary)  # Salary will increase as the experience increases."
      ],
      "metadata": {
        "colab": {
          "base_uri": "https://localhost:8080/",
          "height": 282
        },
        "id": "-CnmycVI9V31",
        "outputId": "5bad2874-55a1-4373-d075-3e2198f929d6"
      },
      "execution_count": 7,
      "outputs": [
        {
          "output_type": "execute_result",
          "data": {
            "text/plain": [
              "[<matplotlib.lines.Line2D at 0x7fb56c5d3dc0>]"
            ]
          },
          "metadata": {},
          "execution_count": 7
        },
        {
          "output_type": "display_data",
          "data": {
            "text/plain": [
              "<Figure size 432x288 with 1 Axes>"
            ],
            "image/png": "[encoded data removed]"
          },
          "metadata": {
            "needs_background": "light"
          }
        }
      ]
    },
    {
      "cell_type": "code",
      "source": [
        "# assigning dependent and independent variable\n",
        "X = data['YearsExperience']\n",
        "X = np.array(X)\n",
        "X = X.reshape(-1,1)\n",
        "y = data['Salary']"
      ],
      "metadata": {
        "id": "UjUypAzh_UhV"
      },
      "execution_count": 8,
      "outputs": []
    },
    {
      "cell_type": "code",
      "source": [
        "Xtrain, Xtest, ytrain, ytest = train_test_split(X, y, test_size=0.33, random_state=0)\n",
        "\n",
        "print(\"Shape of the splitted dataset: \", (Xtrain.shape, Xtest.shape, ytrain.shape, ytest.shape))"
      ],
      "metadata": {
        "colab": {
          "base_uri": "https://localhost:8080/"
        },
        "id": "FDBtLsEGAa0Z",
        "outputId": "fb0836b2-6809-4b5c-971f-dcbce6f492cd"
      },
      "execution_count": 9,
      "outputs": [
        {
          "output_type": "stream",
          "name": "stdout",
          "text": [
            "Shape of the splitted dataset:  ((20, 1), (10, 1), (20,), (10,))\n"
          ]
        }
      ]
    },
    {
      "cell_type": "code",
      "source": [
        "linear_reg = LinearRegression()\n",
        "linear_reg.fit(Xtrain, ytrain)\n",
        "\n",
        "linear_reg_pred = linear_reg.predict(Xtest)\n",
        "r2 = r2_score(ytest, linear_reg_pred)\n",
        "MSE = mean_squared_error(ytest, linear_reg_pred)\n",
        "RMSE = np.sqrt(MSE)\n",
        "\n",
        "print(f\"R2 Score: {r2}\\nMean Squared Error: {MSE}\\nRoot mean squared error: {RMSE}\")"
      ],
      "metadata": {
        "colab": {
          "base_uri": "https://localhost:8080/"
        },
        "id": "tSXMy3dIC7a2",
        "outputId": "519cb11a-c552-4c41-c16f-27bba5cad595"
      },
      "execution_count": null,
      "outputs": [
        {
          "output_type": "stream",
          "name": "stdout",
          "text": [
            "R2 Score: 0.9749154407708353\n",
            "Mean Squared Error: 21026037.329511296\n",
            "Root mean squared error: 4585.4157204675885\n"
          ]
        }
      ]
    },
    {
      "cell_type": "markdown",
      "source": [
        "## Logistic Regression\n",
        "\n",
        "### Problem Statement:\n",
        "\n",
        "> You work in XYZ Company as a Python Data Scientist. The company officials have collected some data on \n",
        "Health parameter based on Diabetes and wish for you to create a model from it. \n",
        "\n",
        "\n",
        "> **Dataset**:   diabetes.csv \n",
        "\n",
        "### Tasks to be performed:\n",
        "\n",
        "* Load the dataset using pandas\n",
        "* Extract data fromOutcome column is a variable named Y \n",
        "* Extract data from every column except Outcome column in a variable named X \n",
        "* Divide the dataset into two parts for training and testing in 70% and 30% proportion \n",
        "* Create and train Logistic Regression Model on training set \n",
        "* Make predictions based on the testing set using the trained model \n",
        "* Check the performance by calculating the confusion matrix and accuracy score of the model "
      ],
      "metadata": {
        "id": "lBFXKDOvhhXa"
      }
    },
    {
      "cell_type": "code",
      "source": [
        "# checking required dataset\n",
        "diabetes.head()"
      ],
      "metadata": {
        "colab": {
          "base_uri": "https://localhost:8080/",
          "height": 206
        },
        "id": "GAuAaWncj8IA",
        "outputId": "8511bacd-9b93-4234-f1a6-37b7056c524c"
      },
      "execution_count": 51,
      "outputs": [
        {
          "output_type": "execute_result",
          "data": {
            "text/plain": [
              "   Pregnancies  Glucose  BloodPressure  SkinThickness  Insulin   BMI  \\\n",
              "0            6      148             72             35        0  33.6   \n",
              "1            1       85             66             29        0  26.6   \n",
              "2            8      183             64              0        0  23.3   \n",
              "3            1       89             66             23       94  28.1   \n",
              "4            0      137             40             35      168  43.1   \n",
              "\n",
              "   DiabetesPedigreeFunction  Age  Outcome  \n",
              "0                     0.627   50        1  \n",
              "1                     0.351   31        0  \n",
              "2                     0.672   32        1  \n",
              "3                     0.167   21        0  \n",
              "4                     2.288   33        1  "
            ],
            "text/html": [
              "\n",
              "  <div id=\"df-47068c38-6385-45f6-85e7-252f43fda3af\">\n",
              "    <div class=\"colab-df-container\">\n",
              "      <div>\n",
              "<style scoped>\n",
              "    .dataframe tbody tr th:only-of-type {\n",
              "        vertical-align: middle;\n",
              "    }\n",
              "\n",
              "    .dataframe tbody tr th {\n",
              "        vertical-align: top;\n",
              "    }\n",
              "\n",
              "    .dataframe thead th {\n",
              "        text-align: right;\n",
              "    }\n",
              "</style>\n",
              "<table border=\"1\" class=\"dataframe\">\n",
              "  <thead>\n",
              "    <tr style=\"text-align: right;\">\n",
              "      <th></th>\n",
              "      <th>Pregnancies</th>\n",
              "      <th>Glucose</th>\n",
              "      <th>BloodPressure</th>\n",
              "      <th>SkinThickness</th>\n",
              "      <th>Insulin</th>\n",
              "      <th>BMI</th>\n",
              "      <th>DiabetesPedigreeFunction</th>\n",
              "      <th>Age</th>\n",
              "      <th>Outcome</th>\n",
              "    </tr>\n",
              "  </thead>\n",
              "  <tbody>\n",
              "    <tr>\n",
              "      <th>0</th>\n",
              "      <td>6</td>\n",
              "      <td>148</td>\n",
              "      <td>72</td>\n",
              "      <td>35</td>\n",
              "      <td>0</td>\n",
              "      <td>33.6</td>\n",
              "      <td>0.627</td>\n",
              "      <td>50</td>\n",
              "      <td>1</td>\n",
              "    </tr>\n",
              "    <tr>\n",
              "      <th>1</th>\n",
              "      <td>1</td>\n",
              "      <td>85</td>\n",
              "      <td>66</td>\n",
              "      <td>29</td>\n",
              "      <td>0</td>\n",
              "      <td>26.6</td>\n",
              "      <td>0.351</td>\n",
              "      <td>31</td>\n",
              "      <td>0</td>\n",
              "    </tr>\n",
              "    <tr>\n",
              "      <th>2</th>\n",
              "      <td>8</td>\n",
              "      <td>183</td>\n",
              "      <td>64</td>\n",
              "      <td>0</td>\n",
              "      <td>0</td>\n",
              "      <td>23.3</td>\n",
              "      <td>0.672</td>\n",
              "      <td>32</td>\n",
              "      <td>1</td>\n",
              "    </tr>\n",
              "    <tr>\n",
              "      <th>3</th>\n",
              "      <td>1</td>\n",
              "      <td>89</td>\n",
              "      <td>66</td>\n",
              "      <td>23</td>\n",
              "      <td>94</td>\n",
              "      <td>28.1</td>\n",
              "      <td>0.167</td>\n",
              "      <td>21</td>\n",
              "      <td>0</td>\n",
              "    </tr>\n",
              "    <tr>\n",
              "      <th>4</th>\n",
              "      <td>0</td>\n",
              "      <td>137</td>\n",
              "      <td>40</td>\n",
              "      <td>35</td>\n",
              "      <td>168</td>\n",
              "      <td>43.1</td>\n",
              "      <td>2.288</td>\n",
              "      <td>33</td>\n",
              "      <td>1</td>\n",
              "    </tr>\n",
              "  </tbody>\n",
              "</table>\n",
              "</div>\n",
              "      <button class=\"colab-df-convert\" onclick=\"convertToInteractive('df-47068c38-6385-45f6-85e7-252f43fda3af')\"\n",
              "              title=\"Convert this dataframe to an interactive table.\"\n",
              "              style=\"display:none;\">\n",
              "        \n",
              "  <svg xmlns=\"http://www.w3.org/2000/svg\" height=\"24px\"viewBox=\"0 0 24 24\"\n",
              "       width=\"24px\">\n",
              "    <path d=\"M0 0h24v24H0V0z\" fill=\"none\"/>\n",
              "    <path d=\"M18.56 5.44l.94 2.06.94-2.06 2.06-.94-2.06-.94-.94-2.06-.94 2.06-2.06.94zm-11 1L8.5 8.5l.94-2.06 2.06-.94-2.06-.94L8.5 2.5l-.94 2.06-2.06.94zm10 10l.94 2.06.94-2.06 2.06-.94-2.06-.94-.94-2.06-.94 2.06-2.06.94z\"/><path d=\"M17.41 7.96l-1.37-1.37c-.4-.4-.92-.59-1.43-.59-.52 0-1.04.2-1.43.59L10.3 9.45l-7.72 7.72c-.78.78-.78 2.05 0 2.83L4 21.41c.39.39.9.59 1.41.59.51 0 1.02-.2 1.41-.59l7.78-7.78 2.81-2.81c.8-.78.8-2.07 0-2.86zM5.41 20L4 18.59l7.72-7.72 1.47 1.35L5.41 20z\"/>\n",
              "  </svg>\n",
              "      </button>\n",
              "      \n",
              "  <style>\n",
              "    .colab-df-container {\n",
              "      display:flex;\n",
              "      flex-wrap:wrap;\n",
              "      gap: 12px;\n",
              "    }\n",
              "\n",
              "    .colab-df-convert {\n",
              "      background-color: #E8F0FE;\n",
              "      border: none;\n",
              "      border-radius: 50%;\n",
              "      cursor: pointer;\n",
              "      display: none;\n",
              "      fill: #1967D2;\n",
              "      height: 32px;\n",
              "      padding: 0 0 0 0;\n",
              "      width: 32px;\n",
              "    }\n",
              "\n",
              "    .colab-df-convert:hover {\n",
              "      background-color: #E2EBFA;\n",
              "      box-shadow: 0px 1px 2px rgba(60, 64, 67, 0.3), 0px 1px 3px 1px rgba(60, 64, 67, 0.15);\n",
              "      fill: #174EA6;\n",
              "    }\n",
              "\n",
              "    [theme=dark] .colab-df-convert {\n",
              "      background-color: #3B4455;\n",
              "      fill: #D2E3FC;\n",
              "    }\n",
              "\n",
              "    [theme=dark] .colab-df-convert:hover {\n",
              "      background-color: #434B5C;\n",
              "      box-shadow: 0px 1px 3px 1px rgba(0, 0, 0, 0.15);\n",
              "      filter: drop-shadow(0px 1px 2px rgba(0, 0, 0, 0.3));\n",
              "      fill: #FFFFFF;\n",
              "    }\n",
              "  </style>\n",
              "\n",
              "      <script>\n",
              "        const buttonEl =\n",
              "          document.querySelector('#df-47068c38-6385-45f6-85e7-252f43fda3af button.colab-df-convert');\n",
              "        buttonEl.style.display =\n",
              "          google.colab.kernel.accessAllowed ? 'block' : 'none';\n",
              "\n",
              "        async function convertToInteractive(key) {\n",
              "          const element = document.querySelector('#df-47068c38-6385-45f6-85e7-252f43fda3af');\n",
              "          const dataTable =\n",
              "            await google.colab.kernel.invokeFunction('convertToInteractive',\n",
              "                                                     [key], {});\n",
              "          if (!dataTable) return;\n",
              "\n",
              "          const docLinkHtml = 'Like what you see? Visit the ' +\n",
              "            '<a target=\"_blank\" href=https://colab.research.google.com/notebooks/data_table.ipynb>data table notebook</a>'\n",
              "            + ' to learn more about interactive tables.';\n",
              "          element.innerHTML = '';\n",
              "          dataTable['output_type'] = 'display_data';\n",
              "          await google.colab.output.renderOutput(dataTable, element);\n",
              "          const docLink = document.createElement('div');\n",
              "          docLink.innerHTML = docLinkHtml;\n",
              "          element.appendChild(docLink);\n",
              "        }\n",
              "      </script>\n",
              "    </div>\n",
              "  </div>\n",
              "  "
            ]
          },
          "metadata": {},
          "execution_count": 51
        }
      ]
    },
    {
      "cell_type": "code",
      "source": [
        "def plot_histograms():\n",
        "    plt.figure(figsize=(20,10))\n",
        "    for i,c in enumerate(diabetes.columns):\n",
        "        if(c != 'Outcome'):\n",
        "            plt.subplot(2,4, i+1)\n",
        "            plt.xlabel(c)\n",
        "            plt.hist(diabetes[c])\n",
        "            plt.plot()\n",
        "\n",
        "plot_histograms()"
      ],
      "metadata": {
        "colab": {
          "base_uri": "https://localhost:8080/",
          "height": 606
        },
        "id": "bD1DdNfVQkDF",
        "outputId": "0f00aa3b-ed7c-4b79-a137-d289470fea28"
      },
      "execution_count": 52,
      "outputs": [
        {
          "output_type": "display_data",
          "data": {
            "text/plain": [
              "<Figure size 1440x720 with 8 Axes>"
            ],
            "image/png": "[encoded data removed]"
          },
          "metadata": {
            "needs_background": "light"
          }
        }
      ]
    },
    {
      "cell_type": "markdown",
      "source": [
        "##### Columns gluecose, bloodpressure, bmi, skin thickness and insulin, value of 0 doesn't make sense. That means they represent missing values"
      ],
      "metadata": {
        "id": "A3xRgPgbQ19z"
      }
    },
    {
      "cell_type": "code",
      "source": [
        "#Fill missing values with mean value for normally distributed variables\n",
        "diabetes['Glucose'].replace(0,round(diabetes['Glucose'].mean()), inplace=True)\n",
        "diabetes['BloodPressure'].replace(0,round(diabetes['BloodPressure'].mean()), inplace=True)\n",
        "diabetes['BMI'].replace(0,diabetes['BMI'].mean(), inplace=True)\n",
        "diabetes['Insulin'].replace(0,round(diabetes['Insulin'].mean()), inplace=True)\n",
        "diabetes['SkinThickness'].replace(0,round(diabetes['SkinThickness'].mean()), inplace=True)"
      ],
      "metadata": {
        "id": "9uKt9qnYO6eC"
      },
      "execution_count": 53,
      "outputs": []
    },
    {
      "cell_type": "code",
      "source": [
        "col_name = diabetes.columns[:-1]\n",
        "col_name"
      ],
      "metadata": {
        "colab": {
          "base_uri": "https://localhost:8080/"
        },
        "id": "yhVE7SogCOUL",
        "outputId": "3354bb41-afbc-4ee4-c34a-7f2bfeb42b75"
      },
      "execution_count": 54,
      "outputs": [
        {
          "output_type": "execute_result",
          "data": {
            "text/plain": [
              "Index(['Pregnancies', 'Glucose', 'BloodPressure', 'SkinThickness', 'Insulin',\n",
              "       'BMI', 'DiabetesPedigreeFunction', 'Age'],\n",
              "      dtype='object')"
            ]
          },
          "metadata": {},
          "execution_count": 54
        }
      ]
    },
    {
      "cell_type": "code",
      "source": [
        "def scaling_dataset(X, col):\n",
        "    sc = StandardScaler()\n",
        "    X = sc.fit_transform(X)\n",
        "    X = pd.DataFrame(X, columns= col)\n",
        "    return X\n",
        "\n",
        "def metrics(y_test, predict, model):\n",
        "    cm = confusion_matrix(y_test, predict)\n",
        "    acc_score = accuracy_score(y_test, predict)\n",
        "    print(f\"Accuracy Score for the {model}: {acc_score*100} \\n\\nConfusion matrix: \\n{cm}\")"
      ],
      "metadata": {
        "id": "Zv9g9SsF8SQz"
      },
      "execution_count": 55,
      "outputs": []
    },
    {
      "cell_type": "code",
      "source": [
        "# splitting dataset into dependent and independent variable\n",
        "\n",
        "X = scaling_dataset(diabetes.iloc[:,:-1], col_name)\n",
        "y = diabetes.iloc[:,-1]\n",
        "X"
      ],
      "metadata": {
        "colab": {
          "base_uri": "https://localhost:8080/",
          "height": 423
        },
        "id": "mQx0qqCjDMka",
        "outputId": "c9cf4b25-efdc-4f8b-9364-8838b6c9d6a1"
      },
      "execution_count": 56,
      "outputs": [
        {
          "output_type": "execute_result",
          "data": {
            "text/plain": [
              "     Pregnancies   Glucose  BloodPressure  SkinThickness   Insulin       BMI  \\\n",
              "0       0.639947  0.865254      -0.020645       0.865416 -0.416845  0.167255   \n",
              "1      -0.844885 -1.206013      -0.516132       0.236519 -0.416845 -0.851535   \n",
              "2       1.233880  2.015957      -0.681294      -0.602010 -0.416845 -1.331821   \n",
              "3      -0.844885 -1.074504      -0.516132      -0.392378 -0.266273 -0.633222   \n",
              "4      -1.141852  0.503604      -2.663240       0.865416  0.529606  1.549899   \n",
              "..           ...       ...            ...            ...       ...       ...   \n",
              "763     1.827813 -0.679977       0.309679       2.228025  0.658667  0.065376   \n",
              "764    -0.547919  0.010445      -0.185807       0.026886 -0.416845  0.632988   \n",
              "765     0.342981 -0.022432      -0.020645      -0.392378 -0.072681 -0.909751   \n",
              "766    -0.844885  0.141954      -1.011618      -0.602010 -0.416845 -0.342140   \n",
              "767    -0.844885 -0.942995      -0.185807       0.446151 -0.416845 -0.298477   \n",
              "\n",
              "     DiabetesPedigreeFunction       Age  \n",
              "0                    0.468492  1.425995  \n",
              "1                   -0.365061 -0.190672  \n",
              "2                    0.604397 -0.105584  \n",
              "3                   -0.920763 -1.041549  \n",
              "4                    5.484909 -0.020496  \n",
              "..                        ...       ...  \n",
              "763                 -0.908682  2.532136  \n",
              "764                 -0.398282 -0.531023  \n",
              "765                 -0.685193 -0.275760  \n",
              "766                 -0.371101  1.170732  \n",
              "767                 -0.473785 -0.871374  \n",
              "\n",
              "[768 rows x 8 columns]"
            ],
            "text/html": [
              "\n",
              "  <div id=\"df-6d0909d3-96a0-4cf3-8111-2130fe95f7d1\">\n",
              "    <div class=\"colab-df-container\">\n",
              "      <div>\n",
              "<style scoped>\n",
              "    .dataframe tbody tr th:only-of-type {\n",
              "        vertical-align: middle;\n",
              "    }\n",
              "\n",
              "    .dataframe tbody tr th {\n",
              "        vertical-align: top;\n",
              "    }\n",
              "\n",
              "    .dataframe thead th {\n",
              "        text-align: right;\n",
              "    }\n",
              "</style>\n",
              "<table border=\"1\" class=\"dataframe\">\n",
              "  <thead>\n",
              "    <tr style=\"text-align: right;\">\n",
              "      <th></th>\n",
              "      <th>Pregnancies</th>\n",
              "      <th>Glucose</th>\n",
              "      <th>BloodPressure</th>\n",
              "      <th>SkinThickness</th>\n",
              "      <th>Insulin</th>\n",
              "      <th>BMI</th>\n",
              "      <th>DiabetesPedigreeFunction</th>\n",
              "      <th>Age</th>\n",
              "    </tr>\n",
              "  </thead>\n",
              "  <tbody>\n",
              "    <tr>\n",
              "      <th>0</th>\n",
              "      <td>0.639947</td>\n",
              "      <td>0.865254</td>\n",
              "      <td>-0.020645</td>\n",
              "      <td>0.865416</td>\n",
              "      <td>-0.416845</td>\n",
              "      <td>0.167255</td>\n",
              "      <td>0.468492</td>\n",
              "      <td>1.425995</td>\n",
              "    </tr>\n",
              "    <tr>\n",
              "      <th>1</th>\n",
              "      <td>-0.844885</td>\n",
              "      <td>-1.206013</td>\n",
              "      <td>-0.516132</td>\n",
              "      <td>0.236519</td>\n",
              "      <td>-0.416845</td>\n",
              "      <td>-0.851535</td>\n",
              "      <td>-0.365061</td>\n",
              "      <td>-0.190672</td>\n",
              "    </tr>\n",
              "    <tr>\n",
              "      <th>2</th>\n",
              "      <td>1.233880</td>\n",
              "      <td>2.015957</td>\n",
              "      <td>-0.681294</td>\n",
              "      <td>-0.602010</td>\n",
              "      <td>-0.416845</td>\n",
              "      <td>-1.331821</td>\n",
              "      <td>0.604397</td>\n",
              "      <td>-0.105584</td>\n",
              "    </tr>\n",
              "    <tr>\n",
              "      <th>3</th>\n",
              "      <td>-0.844885</td>\n",
              "      <td>-1.074504</td>\n",
              "      <td>-0.516132</td>\n",
              "      <td>-0.392378</td>\n",
              "      <td>-0.266273</td>\n",
              "      <td>-0.633222</td>\n",
              "      <td>-0.920763</td>\n",
              "      <td>-1.041549</td>\n",
              "    </tr>\n",
              "    <tr>\n",
              "      <th>4</th>\n",
              "      <td>-1.141852</td>\n",
              "      <td>0.503604</td>\n",
              "      <td>-2.663240</td>\n",
              "      <td>0.865416</td>\n",
              "      <td>0.529606</td>\n",
              "      <td>1.549899</td>\n",
              "      <td>5.484909</td>\n",
              "      <td>-0.020496</td>\n",
              "    </tr>\n",
              "    <tr>\n",
              "      <th>...</th>\n",
              "      <td>...</td>\n",
              "      <td>...</td>\n",
              "      <td>...</td>\n",
              "      <td>...</td>\n",
              "      <td>...</td>\n",
              "      <td>...</td>\n",
              "      <td>...</td>\n",
              "      <td>...</td>\n",
              "    </tr>\n",
              "    <tr>\n",
              "      <th>763</th>\n",
              "      <td>1.827813</td>\n",
              "      <td>-0.679977</td>\n",
              "      <td>0.309679</td>\n",
              "      <td>2.228025</td>\n",
              "      <td>0.658667</td>\n",
              "      <td>0.065376</td>\n",
              "      <td>-0.908682</td>\n",
              "      <td>2.532136</td>\n",
              "    </tr>\n",
              "    <tr>\n",
              "      <th>764</th>\n",
              "      <td>-0.547919</td>\n",
              "      <td>0.010445</td>\n",
              "      <td>-0.185807</td>\n",
              "      <td>0.026886</td>\n",
              "      <td>-0.416845</td>\n",
              "      <td>0.632988</td>\n",
              "      <td>-0.398282</td>\n",
              "      <td>-0.531023</td>\n",
              "    </tr>\n",
              "    <tr>\n",
              "      <th>765</th>\n",
              "      <td>0.342981</td>\n",
              "      <td>-0.022432</td>\n",
              "      <td>-0.020645</td>\n",
              "      <td>-0.392378</td>\n",
              "      <td>-0.072681</td>\n",
              "      <td>-0.909751</td>\n",
              "      <td>-0.685193</td>\n",
              "      <td>-0.275760</td>\n",
              "    </tr>\n",
              "    <tr>\n",
              "      <th>766</th>\n",
              "      <td>-0.844885</td>\n",
              "      <td>0.141954</td>\n",
              "      <td>-1.011618</td>\n",
              "      <td>-0.602010</td>\n",
              "      <td>-0.416845</td>\n",
              "      <td>-0.342140</td>\n",
              "      <td>-0.371101</td>\n",
              "      <td>1.170732</td>\n",
              "    </tr>\n",
              "    <tr>\n",
              "      <th>767</th>\n",
              "      <td>-0.844885</td>\n",
              "      <td>-0.942995</td>\n",
              "      <td>-0.185807</td>\n",
              "      <td>0.446151</td>\n",
              "      <td>-0.416845</td>\n",
              "      <td>-0.298477</td>\n",
              "      <td>-0.473785</td>\n",
              "      <td>-0.871374</td>\n",
              "    </tr>\n",
              "  </tbody>\n",
              "</table>\n",
              "<p>768 rows × 8 columns</p>\n",
              "</div>\n",
              "      <button class=\"colab-df-convert\" onclick=\"convertToInteractive('df-6d0909d3-96a0-4cf3-8111-2130fe95f7d1')\"\n",
              "              title=\"Convert this dataframe to an interactive table.\"\n",
              "              style=\"display:none;\">\n",
              "        \n",
              "  <svg xmlns=\"http://www.w3.org/2000/svg\" height=\"24px\"viewBox=\"0 0 24 24\"\n",
              "       width=\"24px\">\n",
              "    <path d=\"M0 0h24v24H0V0z\" fill=\"none\"/>\n",
              "    <path d=\"M18.56 5.44l.94 2.06.94-2.06 2.06-.94-2.06-.94-.94-2.06-.94 2.06-2.06.94zm-11 1L8.5 8.5l.94-2.06 2.06-.94-2.06-.94L8.5 2.5l-.94 2.06-2.06.94zm10 10l.94 2.06.94-2.06 2.06-.94-2.06-.94-.94-2.06-.94 2.06-2.06.94z\"/><path d=\"M17.41 7.96l-1.37-1.37c-.4-.4-.92-.59-1.43-.59-.52 0-1.04.2-1.43.59L10.3 9.45l-7.72 7.72c-.78.78-.78 2.05 0 2.83L4 21.41c.39.39.9.59 1.41.59.51 0 1.02-.2 1.41-.59l7.78-7.78 2.81-2.81c.8-.78.8-2.07 0-2.86zM5.41 20L4 18.59l7.72-7.72 1.47 1.35L5.41 20z\"/>\n",
              "  </svg>\n",
              "      </button>\n",
              "      \n",
              "  <style>\n",
              "    .colab-df-container {\n",
              "      display:flex;\n",
              "      flex-wrap:wrap;\n",
              "      gap: 12px;\n",
              "    }\n",
              "\n",
              "    .colab-df-convert {\n",
              "      background-color: #E8F0FE;\n",
              "      border: none;\n",
              "      border-radius: 50%;\n",
              "      cursor: pointer;\n",
              "      display: none;\n",
              "      fill: #1967D2;\n",
              "      height: 32px;\n",
              "      padding: 0 0 0 0;\n",
              "      width: 32px;\n",
              "    }\n",
              "\n",
              "    .colab-df-convert:hover {\n",
              "      background-color: #E2EBFA;\n",
              "      box-shadow: 0px 1px 2px rgba(60, 64, 67, 0.3), 0px 1px 3px 1px rgba(60, 64, 67, 0.15);\n",
              "      fill: #174EA6;\n",
              "    }\n",
              "\n",
              "    [theme=dark] .colab-df-convert {\n",
              "      background-color: #3B4455;\n",
              "      fill: #D2E3FC;\n",
              "    }\n",
              "\n",
              "    [theme=dark] .colab-df-convert:hover {\n",
              "      background-color: #434B5C;\n",
              "      box-shadow: 0px 1px 3px 1px rgba(0, 0, 0, 0.15);\n",
              "      filter: drop-shadow(0px 1px 2px rgba(0, 0, 0, 0.3));\n",
              "      fill: #FFFFFF;\n",
              "    }\n",
              "  </style>\n",
              "\n",
              "      <script>\n",
              "        const buttonEl =\n",
              "          document.querySelector('#df-6d0909d3-96a0-4cf3-8111-2130fe95f7d1 button.colab-df-convert');\n",
              "        buttonEl.style.display =\n",
              "          google.colab.kernel.accessAllowed ? 'block' : 'none';\n",
              "\n",
              "        async function convertToInteractive(key) {\n",
              "          const element = document.querySelector('#df-6d0909d3-96a0-4cf3-8111-2130fe95f7d1');\n",
              "          const dataTable =\n",
              "            await google.colab.kernel.invokeFunction('convertToInteractive',\n",
              "                                                     [key], {});\n",
              "          if (!dataTable) return;\n",
              "\n",
              "          const docLinkHtml = 'Like what you see? Visit the ' +\n",
              "            '<a target=\"_blank\" href=https://colab.research.google.com/notebooks/data_table.ipynb>data table notebook</a>'\n",
              "            + ' to learn more about interactive tables.';\n",
              "          element.innerHTML = '';\n",
              "          dataTable['output_type'] = 'display_data';\n",
              "          await google.colab.output.renderOutput(dataTable, element);\n",
              "          const docLink = document.createElement('div');\n",
              "          docLink.innerHTML = docLinkHtml;\n",
              "          element.appendChild(docLink);\n",
              "        }\n",
              "      </script>\n",
              "    </div>\n",
              "  </div>\n",
              "  "
            ]
          },
          "metadata": {},
          "execution_count": 56
        }
      ]
    },
    {
      "cell_type": "code",
      "source": [
        "# splitting dataset into train & test and ratio of it 70:30\n",
        "\n",
        "X_train, X_test, y_train, y_test = train_test_split(X, y, test_size=0.3, random_state=0)\n",
        "\n",
        "print(\"Shape of the splitted dataset: \", (X_train.shape, X_test.shape, y_train.shape, y_test.shape))"
      ],
      "metadata": {
        "colab": {
          "base_uri": "https://localhost:8080/"
        },
        "id": "_5l4RPKuEAcn",
        "outputId": "7600f146-84b1-41bf-bd7c-ce9541b0109b"
      },
      "execution_count": 57,
      "outputs": [
        {
          "output_type": "stream",
          "name": "stdout",
          "text": [
            "Shape of the splitted dataset:  ((537, 8), (231, 8), (537,), (231,))\n"
          ]
        }
      ]
    },
    {
      "cell_type": "code",
      "source": [
        "# fitting Logistic Regression Model\n",
        "log_reg = LogisticRegression()\n",
        "log_reg.fit(X_train, y_train)\n",
        "\n",
        "log_reg_predict = log_reg.predict(X_test)\n",
        "\n",
        "# calling function for the confusion matrix & accuracy score\n",
        "metrics(y_test, log_reg_predict, 'Logistic Regression Model')"
      ],
      "metadata": {
        "colab": {
          "base_uri": "https://localhost:8080/"
        },
        "id": "K5rP56AuFO9F",
        "outputId": "21eadc59-5d04-464e-c547-12290de28965"
      },
      "execution_count": 59,
      "outputs": [
        {
          "output_type": "stream",
          "name": "stdout",
          "text": [
            "Accuracy Score for the Logistic Regression Model: 77.05627705627705 \n",
            "\n",
            "Confusion matrix: \n",
            "[[140  17]\n",
            " [ 36  38]]\n"
          ]
        }
      ]
    },
    {
      "cell_type": "markdown",
      "source": [
        "## Random Forest \n",
        "\n",
        "### Problem Statement:\n",
        "\n",
        "> You work in XYZ Company as a Python Data Scientist. The company officials have collected some data \n",
        "on salaries based on year of experience and wish for you to create a model from it. \n",
        "\n",
        "\n",
        "> Dataset:   diabetes.csv \n",
        "\n",
        "### Tasks to be performed:\n",
        "\n",
        "* Load the dataset using pandas \n",
        "* Extract data fromOutcome column is a variable named Y \n",
        "* Extract data from every column except Outcome column in a variable named X.\n",
        "* Divide the dataset into two parts for training and testing in 70% and 30% proportion \n",
        "* Create and train Random Forest Model on training set \n",
        "* Make predictions based on the testing set using the trained model \n",
        "* Check the performance by calculating the confusion matrix and accuracy score of the model "
      ],
      "metadata": {
        "id": "U_3ZJWsnhf_d"
      }
    },
    {
      "cell_type": "code",
      "source": [
        "# fitting Random Forest Classifier Model\n",
        "rf = RandomForestClassifier(n_estimators=10, criterion='gini')\n",
        "rf.fit(X_train, y_train)\n",
        "\n",
        "rf_predict = rf.predict(X_test)\n",
        "\n",
        "# calling function for the confusion matrix & accuracy score\n",
        "metrics(y_test, rf_predict, 'Random Forest Classifier Model')"
      ],
      "metadata": {
        "colab": {
          "base_uri": "https://localhost:8080/"
        },
        "id": "dR67juQF8RO1",
        "outputId": "16b27bb3-ee76-4c45-fc16-bc39ec5756ea"
      },
      "execution_count": 71,
      "outputs": [
        {
          "output_type": "stream",
          "name": "stdout",
          "text": [
            "Accuracy Score for the Random Forest Classifier Model: 77.48917748917748 \n",
            "\n",
            "Confusion matrix: \n",
            "[[143  14]\n",
            " [ 38  36]]\n"
          ]
        }
      ]
    },
    {
      "cell_type": "markdown",
      "source": [
        "## Decision Tree Classifier\n",
        "\n",
        "\n",
        "### Problem Statement:\n",
        "\n",
        "> You work in XYZ Company as a Python Data Scientist. The company officials have collected some data \n",
        "on salaries based on year of experience and wish for you to create a model from it.\n",
        "\n",
        "\n",
        "> Dataset:  diabetes.csv \n",
        "\n",
        "### Tasks to be performed:\n",
        "\n",
        "* Load the dataset using pandas \n",
        "* Extract data fromOutcome column is a variable named Y \n",
        "* Extract data from every column except Outcome column in a variable named X\n",
        "* Divide the dataset into two parts for training and testing in 70% and 30% proportion \n",
        "* Create and train Decision Tree Model on training set \n",
        "* Make predictions based on the testing set using the trained model \n",
        "* Check the performance by calculating the confusion matrix and accuracy score of the model "
      ],
      "metadata": {
        "id": "BaOAVALrhbH9"
      }
    },
    {
      "cell_type": "code",
      "source": [
        "# fitting Decision Tree Classifier Model\n",
        "dtc = DecisionTreeClassifier(random_state=456, criterion='gini')\n",
        "dtc.fit(X_train, y_train)\n",
        "\n",
        "dtc_predict = dtc.predict(X_test)\n",
        "\n",
        "# calling function for the confusion matrix & accuracy score\n",
        "metrics(y_test, dtc_predict, 'Decision Tree Classifier Model')"
      ],
      "metadata": {
        "id": "30HgTAGZj7DG",
        "colab": {
          "base_uri": "https://localhost:8080/"
        },
        "outputId": "e06793f4-9dbb-43ba-89a7-e8f0a0561241"
      },
      "execution_count": 78,
      "outputs": [
        {
          "output_type": "stream",
          "name": "stdout",
          "text": [
            "Accuracy Score for the Decision Tree Classifier Model: 75.75757575757575 \n",
            "\n",
            "Confusion matrix: \n",
            "[[127  30]\n",
            " [ 26  48]]\n"
          ]
        }
      ]
    },
    {
      "cell_type": "markdown",
      "source": [
        "## Naïve-Bayes\n",
        "\n",
        "\n",
        "### Problem Statement:\n",
        "\n",
        "> You work in XYZ Company as a Python Data Scientist. The company officials have collected some data \n",
        "on salaries based on year of experience and wish for you to create a model from it. \n",
        "\n",
        "\n",
        "> Dataset:  diabetes.csv \n",
        "\n",
        "### Tasks to be performed:\n",
        "\n",
        "* Load the dataset using pandas \n",
        "* Extract data fromOutcome column is a variable named Y \n",
        "* Extract data from every column except Outcome column in a variable named X\n",
        "* Divide the dataset into two parts for training and testing in 70% and 30% proportion \n",
        "* Create and train Naïve Bayes Model on training set \n",
        "* Make predictions based on the testing set using the trained model \n",
        "* Check the performance by calculating the confusion matrix and accuracy score of the model"
      ],
      "metadata": {
        "id": "QNzLfHyEj_VX"
      }
    },
    {
      "cell_type": "code",
      "source": [
        "# fitting Naive Bayes Model\n",
        "nb = GaussianNB()\n",
        "nb.fit(X_train, y_train)\n",
        "\n",
        "nb_predict = nb.predict(X_test)\n",
        "\n",
        "# calling function for the confusion matrix & accuracy score\n",
        "metrics(y_test, nb_predict, 'Naive Bayes Model')"
      ],
      "metadata": {
        "id": "04U_F6QKkNMg",
        "colab": {
          "base_uri": "https://localhost:8080/"
        },
        "outputId": "138a1f16-9d3e-4ad8-c7c0-c765f9a26970"
      },
      "execution_count": 81,
      "outputs": [
        {
          "output_type": "stream",
          "name": "stdout",
          "text": [
            "Accuracy Score for the Naive Bayes Model: 74.89177489177489 \n",
            "\n",
            "Confusion matrix: \n",
            "[[136  21]\n",
            " [ 37  37]]\n"
          ]
        }
      ]
    },
    {
      "cell_type": "code",
      "source": [],
      "metadata": {
        "id": "gElqne1pWyo2"
      },
      "execution_count": 80,
      "outputs": []
    }
  ]
}